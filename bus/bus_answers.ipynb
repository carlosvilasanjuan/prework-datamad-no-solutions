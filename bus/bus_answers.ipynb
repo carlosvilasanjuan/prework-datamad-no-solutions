{
 "cells": [
  {
   "cell_type": "markdown",
   "metadata": {},
   "source": [
    "<img src=\"https://bit.ly/2VnXWr2\" width=\"100\" align=\"left\">"
   ]
  },
  {
   "cell_type": "markdown",
   "metadata": {},
   "source": [
    "# Bus\n",
    "\n",
    "This bus has a passenger entry and exit control system to monitor the number of occupants it carries and thus detect when there are too many.\n",
    "\n",
    "At each stop, the entry and exit of passengers is represented by a tuple consisting of two integer numbers.\n",
    "```\n",
    "bus_stop = (in, out)\n",
    "```\n",
    "The succession of stops is represented by a list of these tuples.\n",
    "```\n",
    "stops = [(in1, out1), (in2, out2), (in3, out3), (in4, out4)]\n",
    "```\n",
    "\n",
    "## Tools\n",
    "You don't necessarily need to use all the tools. Maybe you opt to use some of them or completely different ones, they are given to help you shape the exercise. Programming exercises can be solved in many different ways.\n",
    "* Data structures: **lists, tuples**\n",
    "* Loop: **while/for loops**\n",
    "* Functions: **min, max, len**\n",
    "\n",
    "## Tasks"
   ]
  },
  {
   "cell_type": "code",
   "execution_count": 1,
   "metadata": {},
   "outputs": [],
   "source": [
    "# Variables\n",
    "stops = [(10, 0), (4, 1), (3, 5), (3, 4), (5, 1), (1, 5), (5, 8), (4, 6), (2, 3)]\n"
   ]
  },
  {
   "cell_type": "markdown",
   "metadata": {},
   "source": [
    "#### 1. Calculate the number of stops."
   ]
  },
  {
   "cell_type": "code",
   "execution_count": 2,
   "metadata": {},
   "outputs": [
    {
     "name": "stdout",
     "output_type": "stream",
     "text": [
      "There are  9 stops.\n"
     ]
    }
   ],
   "source": [
    "len_stops = len(stops)\n",
    "print (\"There are \", len_stops, \"stops.\")"
   ]
  },
  {
   "cell_type": "markdown",
   "metadata": {},
   "source": [
    "#### 2. Assign to a variable a list whose elements are the number of passengers at each stop (in-out).\n",
    "Each item depends on the previous item in the list + in - out."
   ]
  },
  {
   "cell_type": "code",
   "execution_count": 3,
   "metadata": {},
   "outputs": [
    {
     "name": "stdout",
     "output_type": "stream",
     "text": [
      "[[10, 0], [4, 1], [3, 5], [3, 4], [5, 1], [1, 5], [5, 8], [4, 6], [2, 3]]\n"
     ]
    }
   ],
   "source": [
    "stop_list= list(map(list, stops))\n",
    "print (stop_list)"
   ]
  },
  {
   "cell_type": "markdown",
   "metadata": {},
   "source": [
    "#### 3. Find the maximum occupation of the bus."
   ]
  },
  {
   "cell_type": "code",
   "execution_count": 4,
   "metadata": {
    "scrolled": true
   },
   "outputs": [
    {
     "name": "stdout",
     "output_type": "stream",
     "text": [
      "Net inflow of passengers per sto: [10, 3, -2, -1, 4, -4, -3, -2, -1]\n",
      "Occupation at end of stop: [10 13 11 10 14 10  7  5  4]\n",
      "Maximum Occupation: 14\n"
     ]
    }
   ],
   "source": [
    "stop = 0\n",
    "stop_duration= list(range(0,len_stops))\n",
    "passenger_stop = [0 for x in stop_duration]\n",
    "passenger_stop\n",
    "\n",
    "\n",
    "while stop < len_stops:\n",
    "    \n",
    "    passenger_stop[stop] += stop_list[stop][0] \n",
    "    passenger_stop[stop] -= stop_list[stop][1]\n",
    "    stop += 1\n",
    "    \n",
    "\n",
    "else:\n",
    "    print(\"Net inflow of passengers per sto:\", passenger_stop[:stop])\n",
    "    \n",
    "\n",
    "import numpy as np\n",
    "\n",
    "stop_occupation = np.cumsum(passenger_stop)\n",
    "\n",
    "print(\"Occupation at end of stop:\", stop_occupation)\n",
    "\n",
    "print (\"Maximum Occupation:\", max(stop_occupation))\n",
    "\n",
    "    "
   ]
  },
  {
   "cell_type": "markdown",
   "metadata": {},
   "source": [
    "#### 4. Calculate the average occupation. And the standard deviation."
   ]
  },
  {
   "cell_type": "code",
   "execution_count": 5,
   "metadata": {},
   "outputs": [
    {
     "name": "stdout",
     "output_type": "stream",
     "text": [
      "Average Occupation: 9.333333333333334\n",
      "Standard Deviation Occupation 3.3166247903554\n"
     ]
    }
   ],
   "source": [
    "import statistics\n",
    "\n",
    "print (\"Average Occupation:\" ,np.mean(stop_occupation) )\n",
    "print (\"Standard Deviation Occupation\" , statistics.stdev(stop_occupation))"
   ]
  },
  {
   "cell_type": "code",
   "execution_count": null,
   "metadata": {},
   "outputs": [],
   "source": []
  },
  {
   "cell_type": "code",
   "execution_count": null,
   "metadata": {},
   "outputs": [],
   "source": []
  },
  {
   "cell_type": "code",
   "execution_count": null,
   "metadata": {},
   "outputs": [],
   "source": []
  }
 ],
 "metadata": {
  "kernelspec": {
   "display_name": "Python 3",
   "language": "python",
   "name": "python3"
  },
  "language_info": {
   "codemirror_mode": {
    "name": "ipython",
    "version": 3
   },
   "file_extension": ".py",
   "mimetype": "text/x-python",
   "name": "python",
   "nbconvert_exporter": "python",
   "pygments_lexer": "ipython3",
   "version": "3.8.5"
  }
 },
 "nbformat": 4,
 "nbformat_minor": 2
}
