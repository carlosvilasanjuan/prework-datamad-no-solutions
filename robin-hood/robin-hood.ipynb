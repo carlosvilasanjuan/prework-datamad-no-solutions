{
 "cells": [
  {
   "cell_type": "markdown",
   "metadata": {},
   "source": [
    "<img src=\"https://bit.ly/2VnXWr2\" width=\"100\" align=\"left\"/>"
   ]
  },
  {
   "cell_type": "markdown",
   "metadata": {},
   "source": [
    "# Robin Hood\n",
    "Robin Hood has entered a competition to win the archery contest in Sherwood. With his bow and arrows, he needs to shoot on a target and try to hit as close as possible to the center.\n",
    "\n",
    "![](images/arrows.jpg)\n",
    "\n",
    "## Context\n",
    "In this challenge, the landing position of arrows shot by archers in the competition will be represented using 2-dimensional coordinates. \n",
    "\n",
    "In the 2-dimensional space, a point can be defined by a pair of values that correspond to the horizontal coordinate (x) and the vertical coordinate (y). For example, in our case, an arrow that hits the center of the archery target will land in position (0, 0) on the coordinate axes. \n",
    "\n",
    "The space can be divided into 4 zones (quadrants): Q1, Q2, Q3, Q4. If a point is in Q1, both its x coordinate and y coordinate are positive. Any point with a null x or y coordinate is considered to not belong to any quadrant. \n",
    "\n",
    "If you want to know more about the cartesian coordinate system, you can check this [link](https://en.wikipedia.org/wiki/Cartesian_coordinate_system). \n",
    "\n",
    "## Tools\n",
    "You don't necessarily need to use all the tools. Maybe you opt to use some of them or completely different ones, they are given to help you shape the exercise. Programming exercises can be solved in many different ways.\n",
    "* Data structures: **lists, sets, tuples**\n",
    "* Conditional statements: **if-elif-else**\n",
    "* Loop: **while/for**\n",
    "* Minimum (optional sorting)\n",
    "\n",
    "## Tasks\n",
    "Robin Hood has hit the following points:"
   ]
  },
  {
   "cell_type": "code",
   "execution_count": 1,
   "metadata": {},
   "outputs": [],
   "source": [
    "points = [(4, 5), (-0, 2), (4, 7), (1, -3), (3, -2), (4, 5), (3, 2), (5, 7), (-5, 7), (2, 2), (-4, 5), (0, -2),\n",
    "          (-4, 7), (-1, 3), (-3, 2), (-4, -5), (-3, 2), (5, 7), (5, 7), (2, 2), (9, 9), (-8, -9)]"
   ]
  },
  {
   "cell_type": "markdown",
   "metadata": {},
   "source": [
    "#### 1. Robin Hood is famous for hitting an arrow with another arrow. Find the coordinates of the points where an arrow hits another arrow."
   ]
  },
  {
   "cell_type": "code",
   "execution_count": 2,
   "metadata": {},
   "outputs": [
    {
     "name": "stdout",
     "output_type": "stream",
     "text": [
      "Arrow position duplicates: [(-3, 2), (4, 5), (5, 7), (2, 2)]\n"
     ]
    }
   ],
   "source": [
    "arrow_position_duplicates = list(set([ele for ele in points if points.count(ele) > 1]))\n",
    "print(\"Arrow position duplicates:\", arrow_position_duplicates)"
   ]
  },
  {
   "cell_type": "markdown",
   "metadata": {},
   "source": [
    "#### 2. Calculate how many arrows have fallen in each quadrant. \n",
    "**Note**: the arrows that fall in the axis (x=0 or y=0) don't belong to any quadrant."
   ]
  },
  {
   "cell_type": "code",
   "execution_count": 3,
   "metadata": {},
   "outputs": [
    {
     "name": "stdout",
     "output_type": "stream",
     "text": [
      "Q1: [(4, 5), (4, 7), (4, 5), (3, 2), (5, 7), (2, 2), (5, 7), (5, 7), (2, 2), (9, 9)]\n",
      "Q2: [(1, -3), (3, -2)]\n",
      "Q3: [(-4, -5), (-8, -9)]\n",
      "Q4: [(-5, 7), (-4, 5), (-4, 7), (-1, 3), (-3, 2), (-3, 2)]\n",
      "\n",
      "10 arrows have fallen in Q1.\n",
      "2 arrows have fallen in Q2.\n",
      "2 arrows have fallen in Q3.\n",
      "6 arrows have fallen in Q4.\n"
     ]
    }
   ],
   "source": [
    "q1 = [] ## X > 0, Y > 0 ##\n",
    "q2 = [] ## X > 0, Y < 0 ##\n",
    "q3 = [] ## X < 0, Y < 0 ##\n",
    "q4 = [] ## X < 0, Y > 0 ##\n",
    "\n",
    "for ele in points:\n",
    "    if list(ele)[0]>0 and list(ele)[1]>0:\n",
    "        q1.append(ele)\n",
    "    \n",
    "    if list(ele)[0]>0 and list(ele)[1]<0:\n",
    "        q2.append(ele)\n",
    "        \n",
    "    if list(ele)[0]<0 and list(ele)[1]<0:\n",
    "        q3.append(ele)\n",
    "    \n",
    "    if list(ele)[0]<0 and list(ele)[1]>0:\n",
    "        q4.append(ele)\n",
    "\n",
    "print(\"Q1:\", q1)\n",
    "print(\"Q2:\", q2)\n",
    "print(\"Q3:\", q3)\n",
    "print(\"Q4:\", q4)\n",
    "\n",
    "print()\n",
    "\n",
    "print(len(q1), \"arrows have fallen in Q1.\")\n",
    "print(len(q2), \"arrows have fallen in Q2.\")\n",
    "print(len(q3), \"arrows have fallen in Q3.\")\n",
    "print(len(q4), \"arrows have fallen in Q4.\")"
   ]
  },
  {
   "cell_type": "markdown",
   "metadata": {},
   "source": [
    "#### 3. Find the point closest to the center. Calculate its distance to the center. \n",
    "Take into account that there might be more than one point at the minimum distance to the center.\n",
    "\n",
    "**Hint**: Use the Euclidean distance. You can find more information about it [here](https://en.wikipedia.org/wiki/Euclidean_distance).  \n",
    "**Hint**: Defining a function that calculates the distance to the center can help."
   ]
  },
  {
   "cell_type": "code",
   "execution_count": 4,
   "metadata": {},
   "outputs": [
    {
     "name": "stdout",
     "output_type": "stream",
     "text": [
      "The point closest to the center is (0, 2)\n"
     ]
    }
   ],
   "source": [
    "## for c = Euclidean distance c^2 = a^2 + b^2, \n",
    "##     c = sqrt( a^2 + b^2)\n",
    "\n",
    "import math\n",
    "\n",
    "Euclidean_distances = []\n",
    "\n",
    "for ele in points:\n",
    "    Euclidean_distances.append([ ele, math.sqrt(ele[0] ** 2 + ele[1]**2)])\n",
    "    \n",
    "Euclidean_distances\n",
    "\n",
    "Euclidean_distances_dict = dict(Euclidean_distances)\n",
    "Euclidean_distances_dict\n",
    "\n",
    "v = list (Euclidean_distances_dict.values())\n",
    "k = list (Euclidean_distances_dict.keys())\n",
    "\n",
    "min_v = min(v)\n",
    "\n",
    "index_min_v = v.index(min(v))\n",
    "\n",
    "closest_to_center_point = k[index_min_v] ## = (k[v.index(max(v))])\n",
    "\n",
    "print (\"The point closest to the center is\",closest_to_center_point  )\n"
   ]
  },
  {
   "cell_type": "markdown",
   "metadata": {},
   "source": [
    "#### 4. If the archery target has a radius of 9, calculate the number of arrows that won't hit the target. \n",
    "**Hint**: Use the function created in step 3. "
   ]
  },
  {
   "cell_type": "code",
   "execution_count": 5,
   "metadata": {},
   "outputs": [
    {
     "name": "stdout",
     "output_type": "stream",
     "text": [
      "The arrows on points [(9, 9), (-8, -9)] won't hit the target\n"
     ]
    }
   ],
   "source": [
    "arrows_off_target= []\n",
    "\n",
    "for ele in points:\n",
    "\n",
    "    if ((math.sqrt(ele[0] ** 2 + ele[1]**2)) < -9 ) | ((math.sqrt(ele[0] ** 2 + ele[1]**2)) > 9) :\n",
    "        arrows_off_target.append(ele)\n",
    "        \n",
    "arrows_off_target\n",
    "\n",
    "print(\"The arrows on points\", arrows_off_target, \"won't hit the target\")"
   ]
  },
  {
   "cell_type": "code",
   "execution_count": null,
   "metadata": {},
   "outputs": [],
   "source": []
  }
 ],
 "metadata": {
  "kernelspec": {
   "display_name": "Python 3",
   "language": "python",
   "name": "python3"
  },
  "language_info": {
   "codemirror_mode": {
    "name": "ipython",
    "version": 3
   },
   "file_extension": ".py",
   "mimetype": "text/x-python",
   "name": "python",
   "nbconvert_exporter": "python",
   "pygments_lexer": "ipython3",
   "version": "3.8.5"
  }
 },
 "nbformat": 4,
 "nbformat_minor": 2
}
