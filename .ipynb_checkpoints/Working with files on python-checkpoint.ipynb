{
 "cells": [
  {
   "cell_type": "markdown",
   "metadata": {},
   "source": [
    "# Working with Files in Python"
   ]
  },
  {
   "cell_type": "markdown",
   "metadata": {},
   "source": [
    "### File system \n",
    "The file system is where files are stored and organized into directories, often visually represented through a graphical user interface \n",
    "\n",
    "### Path\n",
    "The specific place in a directory where a file is located is called its path. For instance, if you had a file named file.txt on your Desktop, the file's path might be /Users/username/Desktop/file.txt on a Mac or C:\\Desktop\\file.txt on a Windows machine\n",
    "\n",
    "### OS\n",
    "Library that makes navigating directories and locating files easier"
   ]
  },
  {
   "cell_type": "code",
   "execution_count": 30,
   "metadata": {},
   "outputs": [],
   "source": [
    "import os"
   ]
  },
  {
   "cell_type": "code",
   "execution_count": 32,
   "metadata": {},
   "outputs": [
    {
     "data": {
      "text/plain": [
       "'/home/cvila/Ironhack_Prework_01/prework-datamad-no-solutions'"
      ]
     },
     "execution_count": 32,
     "metadata": {},
     "output_type": "execute_result"
    }
   ],
   "source": [
    "# find out our current working directory \n",
    "\n",
    "os.getcwd()"
   ]
  },
  {
   "cell_type": "code",
   "execution_count": 33,
   "metadata": {},
   "outputs": [],
   "source": [
    "# To change your current working directory, you can use the os.chdir()"
   ]
  },
  {
   "cell_type": "markdown",
   "metadata": {},
   "source": [
    "## Writing in files"
   ]
  },
  {
   "cell_type": "markdown",
   "metadata": {},
   "source": [
    "### Write to a file\n",
    "\n",
    "We can write to a file in Python by using a with open() as combination to open the file for writing ( \"w\"), and then the write method to actually write content to that file. "
   ]
  },
  {
   "cell_type": "code",
   "execution_count": 35,
   "metadata": {},
   "outputs": [],
   "source": [
    "with open (\"example.txt\", \"w\") as f:\n",
    "    f.write(\"Hello World! \\n\")\n",
    "    f.write(\"how are you? \\n\")\n",
    "    f.write(\"I'm fine.\")"
   ]
  },
  {
   "cell_type": "markdown",
   "metadata": {},
   "source": [
    "###  Reading Files\n",
    "\n",
    "We will need to change the \"w\" inside the open() function to an \"r\" (for \"reading\"). We can then use the readlines method to read all the lines in the file and a simple for loop to print each of the lines. "
   ]
  },
  {
   "cell_type": "code",
   "execution_count": 37,
   "metadata": {},
   "outputs": [
    {
     "name": "stdout",
     "output_type": "stream",
     "text": [
      "Hello World! \n",
      "\n",
      "how are you? \n",
      "\n",
      "I'm fine.\n"
     ]
    }
   ],
   "source": [
    "with open (\"example.txt\", \"r\") as f:\n",
    "    lines = f.readlines()\n",
    "    for line in lines:\n",
    "        print (line)"
   ]
  },
  {
   "cell_type": "markdown",
   "metadata": {},
   "source": [
    "## Reading Data from a CSV File \n",
    "\n",
    "Comma-delimited files with a .csv file extension. In these files, commas are used to separate values from one another and new lines are used to separate records from each other. In this section, we are going to read data from a csv file and perform some simple calculations."
   ]
  },
  {
   "cell_type": "code",
   "execution_count": 41,
   "metadata": {},
   "outputs": [],
   "source": [
    "##extract the data from this file and put it into a format that we can work with##\n",
    "\n",
    "# First, we are going to create an empty list called data\n",
    "data = []\n",
    "\n",
    "# Then we are going to read our csv file, convert each line to a list by leveraging the split() method, and append it to our data list. \n",
    "with open(\"/home/cvila/Downloads/weight_height.csv\", \"r\") as f:\n",
    "    lines =f.readlines()\n",
    "    for line in lines:\n",
    "        data.append(line.split()[0].split(\",\"))\n"
   ]
  },
  {
   "cell_type": "markdown",
   "metadata": {},
   "source": [
    "In this example, we used the split() method twice. The first time, it was used to turn each line into a list, but the content of each list was just a comma-separated string, which we would not have been able to do anything with. In order to access the values we need to access, we needed to reference the 0th element in each list (the comma-separated string) and then split the values wherever there was a comma. "
   ]
  },
  {
   "cell_type": "code",
   "execution_count": 44,
   "metadata": {},
   "outputs": [
    {
     "data": {
      "text/plain": [
       "[['gender',\n",
       "  'actual_weight',\n",
       "  'actual_height',\n",
       "  'reported_weight',\n",
       "  'reported_height'],\n",
       " ['M', '77', '182', '77', '180'],\n",
       " ['F', '58', '161', '51', '159'],\n",
       " ['F', '53', '161', '54', '158'],\n",
       " ['M', '68', '177', '70', '175'],\n",
       " ['F', '59', '157', '59', '155'],\n",
       " ['M', '76', '170', '76', '165'],\n",
       " ['M', '76', '167', '77', '165'],\n",
       " ['M', '69', '186', '73', '180'],\n",
       " ['M', '71', '178', '71', '175'],\n",
       " ['M', '65', '171', '64', '170'],\n",
       " ['M', '70', '175', '75', '174'],\n",
       " ['F', '166', '57', '56', '163'],\n",
       " ['F', '51', '161', '52', '158'],\n",
       " ['F', '64', '168', '64', '165'],\n",
       " ['F', '52', '163', '57', '160'],\n",
       " ['F', '65', '166', '66', '165'],\n",
       " ['M', '92', '187', '101', '185'],\n",
       " ['F', '62', '168', '62', '165'],\n",
       " ['M', '76', '197', '75', '200'],\n",
       " ['F', '61', '175', '61', '171'],\n",
       " ['M', '119', '180', '124', '178'],\n",
       " ['F', '61', '170', '61', '170'],\n",
       " ['M', '65', '175', '66', '173'],\n",
       " ['M', '66', '173', '70', '170'],\n",
       " ['F', '54', '171', '59', '168'],\n",
       " ['F', '50', '166', '50', '165'],\n",
       " ['F', '63', '169', '61', '168'],\n",
       " ['F', '58', '166', '60', '160'],\n",
       " ['F', '39', '157', '41', '153'],\n",
       " ['M', '101', '183', '100', '180'],\n",
       " ['F', '71', '166', '71', '165'],\n",
       " ['M', '75', '178', '73', '175'],\n",
       " ['M', '79', '173', '76', '173'],\n",
       " ['F', '52', '164', '52', '161'],\n",
       " ['F', '68', '169', '63', '170'],\n",
       " ['M', '64', '176', '65', '175'],\n",
       " ['F', '56', '166', '54', '165'],\n",
       " ['M', '69', '174', '69', '171'],\n",
       " ['M', '88', '178', '86', '175'],\n",
       " ['M', '65', '187', '67', '188'],\n",
       " ['F', '54', '164', '53', '160'],\n",
       " ['M', '80', '178', '80', '178'],\n",
       " ['F', '63', '163', '59', '159'],\n",
       " ['M', '78', '183', '80', '180'],\n",
       " ['M', '85', '179', '82', '175'],\n",
       " ['F', '54', '160', '55', '158'],\n",
       " ['F', '54', '174', '56', '173'],\n",
       " ['F', '75', '162', '75', '158'],\n",
       " ['M', '82', '182', '85', '183'],\n",
       " ['F', '56', '165', '57', '163'],\n",
       " ['M', '74', '169', '73', '170'],\n",
       " ['M', '102', '185', '107', '185'],\n",
       " ['M', '65', '176', '64', '172'],\n",
       " ['M', '73', '183', '74', '180'],\n",
       " ['M', '75', '172', '70', '169'],\n",
       " ['M', '57', '173', '58', '170'],\n",
       " ['M', '68', '165', '69', '165'],\n",
       " ['M', '71', '177', '71', '170'],\n",
       " ['M', '71', '180', '76', '175'],\n",
       " ['F', '78', '173', '75', '169'],\n",
       " ['M', '97', '189', '98', '185'],\n",
       " ['F', '60', '162', '59', '160'],\n",
       " ['F', '64', '165', '63', '163'],\n",
       " ['F', '64', '164', '62', '161'],\n",
       " ['F', '52', '158', '51', '155'],\n",
       " ['M', '80', '178', '76', '175'],\n",
       " ['F', '62', '175', '61', '171'],\n",
       " ['M', '66', '173', '66', '175'],\n",
       " ['F', '55', '165', '54', '163'],\n",
       " ['F', '56', '163', '57', '159'],\n",
       " ['F', '50', '166', '50', '161'],\n",
       " ['F', '50', '160', '55', '150'],\n",
       " ['F', '63', '160', '64', '158'],\n",
       " ['M', '69', '182', '70', '180'],\n",
       " ['M', '69', '183', '70', '183'],\n",
       " ['F', '61', '165', '60', '163'],\n",
       " ['M', '55', '168', '56', '170'],\n",
       " ['F', '53', '169', '52', '175'],\n",
       " ['F', '60', '167', '55', '163'],\n",
       " ['F', '56', '170', '56', '170'],\n",
       " ['M', '59', '182', '61', '183'],\n",
       " ['M', '62', '178', '66', '175'],\n",
       " ['F', '53', '165', '53', '165'],\n",
       " ['F', '57', '163', '59', '160'],\n",
       " ['F', '57', '162', '56', '160'],\n",
       " ['M', '70', '173', '68', '170'],\n",
       " ['F', '56', '161', '56', '161'],\n",
       " ['M', '84', '184', '86', '183'],\n",
       " ['M', '69', '180', '71', '180'],\n",
       " ['M', '88', '189', '87', '185'],\n",
       " ['F', '56', '165', '57', '160'],\n",
       " ['M', '103', '185', '101', '182'],\n",
       " ['F', '50', '169', '50', '165'],\n",
       " ['F', '52', '159', '52', '153'],\n",
       " ['F', '55', '164', '55', '163'],\n",
       " ['M', '63', '178', '63', '175'],\n",
       " ['F', '47', '163', '47', '160'],\n",
       " ['F', '45', '163', '45', '160'],\n",
       " ['F', '62', '175', '63', '173'],\n",
       " ['F', '53', '164', '51', '160'],\n",
       " ['F', '52', '152', '51', '150'],\n",
       " ['F', '57', '167', '55', '164'],\n",
       " ['F', '64', '166', '64', '165'],\n",
       " ['F', '59', '166', '55', '163'],\n",
       " ['M', '84', '183', '90', '183'],\n",
       " ['M', '79', '179', '79', '171'],\n",
       " ['F', '55', '174', '57', '171'],\n",
       " ['M', '67', '179', '67', '179'],\n",
       " ['F', '76', '167', '77', '165'],\n",
       " ['F', '62', '168', '62', '163'],\n",
       " ['M', '83', '184', '83', '181'],\n",
       " ['M', '96', '184', '94', '183'],\n",
       " ['M', '75', '169', '76', '165'],\n",
       " ['M', '65', '178', '66', '178'],\n",
       " ['M', '78', '178', '77', '175'],\n",
       " ['M', '69', '167', '73', '165'],\n",
       " ['F', '68', '178', '68', '175'],\n",
       " ['F', '55', '165', '55', '163'],\n",
       " ['F', '52', '169', '56', 'NA'],\n",
       " ['F', '45', '157', '45', '153'],\n",
       " ['F', '68', '171', '68', '169'],\n",
       " ['F', '44', '157', '44', '155'],\n",
       " ['F', '62', '166', '61', '163'],\n",
       " ['M', '87', '185', '89', '185'],\n",
       " ['F', '56', '160', '53', '158'],\n",
       " ['F', '50', '148', '47', '148'],\n",
       " ['M', '83', '177', '84', '175'],\n",
       " ['F', '53', '162', '53', '160'],\n",
       " ['F', '64', '172', '62', '168'],\n",
       " ['M', '90', '188', '91', '185'],\n",
       " ['M', '85', '191', '83', '188'],\n",
       " ['M', '66', '175', '68', '175'],\n",
       " ['F', '52', '163', '53', '160'],\n",
       " ['F', '53', '165', '55', '163'],\n",
       " ['F', '54', '176', '55', '176'],\n",
       " ['F', '64', '171', '66', '171'],\n",
       " ['F', '55', '160', '55', '155'],\n",
       " ['F', '55', '165', '55', '165'],\n",
       " ['F', '59', '157', '55', '158'],\n",
       " ['F', '70', '173', '67', '170'],\n",
       " ['M', '88', '184', '86', '183'],\n",
       " ['F', '57', '168', '58', '165'],\n",
       " ['F', '47', '162', '47', '160'],\n",
       " ['F', '47', '150', '45', '152'],\n",
       " ['F', '48', '163', '44', '160'],\n",
       " ['M', '54', '169', '58', '165'],\n",
       " ['M', '69', '172', '68', '174'],\n",
       " ['F', '57', '167', '56', '165'],\n",
       " ['F', '51', '163', '50', '160'],\n",
       " ['F', '54', '161', '54', '160'],\n",
       " ['F', '53', '162', '52', '158'],\n",
       " ['F', '59', '172', '58', '171'],\n",
       " ['M', '56', '163', '58', '161'],\n",
       " ['F', '59', '159', '59', '155'],\n",
       " ['F', '63', '170', '62', '168'],\n",
       " ['F', '66', '166', '66', '165'],\n",
       " ['M', '96', '191', '95', '188'],\n",
       " ['F', '53', '158', '50', '155'],\n",
       " ['M', '76', '169', '75', '165'],\n",
       " ['M', '61', '170', '61', '170'],\n",
       " ['M', '62', '168', '64', '168'],\n",
       " ['M', '71', '178', '68', '178'],\n",
       " ['M', '66', '170', '67', '165'],\n",
       " ['M', '81', '178', '82', '175'],\n",
       " ['M', '68', '174', '68', '173'],\n",
       " ['M', '80', '176', '78', '175'],\n",
       " ['F', '63', '165', '59', '160'],\n",
       " ['M', '70', '173', '70', '173'],\n",
       " ['F', '56', '162', '56', '160'],\n",
       " ['F', '60', '172', '55', '168'],\n",
       " ['F', '58', '169', '54', '166'],\n",
       " ['M', '76', '183', '75', '180'],\n",
       " ['F', '50', '158', '49', '155'],\n",
       " ['M', '88', '185', '93', '188'],\n",
       " ['M', '89', '173', '86', '173'],\n",
       " ['F', '59', '164', '59', '165'],\n",
       " ['F', '51', '156', '51', '158'],\n",
       " ['F', '62', '164', '61', '161'],\n",
       " ['M', '74', '175', '71', '175'],\n",
       " ['M', '83', '180', '80', '180'],\n",
       " ['M', '90', '181', '91', '178'],\n",
       " ['M', '79', '177', '81', '178']]"
      ]
     },
     "execution_count": 44,
     "metadata": {},
     "output_type": "execute_result"
    }
   ],
   "source": [
    "data"
   ]
  },
  {
   "cell_type": "code",
   "execution_count": 46,
   "metadata": {},
   "outputs": [
    {
     "data": {
      "text/plain": [
       "['gender',\n",
       " 'actual_weight',\n",
       " 'actual_height',\n",
       " 'reported_weight',\n",
       " 'reported_height']"
      ]
     },
     "execution_count": 46,
     "metadata": {},
     "output_type": "execute_result"
    }
   ],
   "source": [
    "data[0]"
   ]
  },
  {
   "cell_type": "code",
   "execution_count": 47,
   "metadata": {},
   "outputs": [
    {
     "data": {
      "text/plain": [
       "'M'"
      ]
     },
     "execution_count": 47,
     "metadata": {},
     "output_type": "execute_result"
    }
   ],
   "source": [
    "data[1][0]"
   ]
  },
  {
   "cell_type": "code",
   "execution_count": 48,
   "metadata": {},
   "outputs": [],
   "source": [
    "heights = []\n",
    "\n",
    "for person in data[1:]:\n",
    "    height = int(person[2])\n",
    "    heights.append(height)"
   ]
  },
  {
   "cell_type": "code",
   "execution_count": 49,
   "metadata": {
    "scrolled": true
   },
   "outputs": [
    {
     "name": "stdout",
     "output_type": "stream",
     "text": [
      "170.14835164835165\n"
     ]
    }
   ],
   "source": [
    "avg_height = sum(heights)/len(heights)\n",
    "print(avg_height)"
   ]
  },
  {
   "cell_type": "markdown",
   "metadata": {},
   "source": [
    "Comparing the average heights of males vs. females"
   ]
  },
  {
   "cell_type": "code",
   "execution_count": 52,
   "metadata": {},
   "outputs": [
    {
     "name": "stdout",
     "output_type": "stream",
     "text": [
      "Avg male height: 178.0121951219512\n",
      "Avg female height 163.7\n"
     ]
    }
   ],
   "source": [
    "# 1 create an empty list for each segmentation\n",
    "male_heights = []\n",
    "female_heights = []\n",
    " \n",
    "# 2 Append to the empty lists the information of interest for each segmentation\n",
    "for person in data[1:]:\n",
    "    height = int(person[2])\n",
    "    if person[0] == 'M':\n",
    "        male_heights.append(height)\n",
    "    elif person[0] == 'F':\n",
    "        female_heights.append(height)\n",
    "   \n",
    "# 3 make the desired studies on the appended sublists        \n",
    "avg_male_height = sum(male_heights)/len(male_heights)\n",
    "avg_female_height = sum(female_heights)/len(female_heights)\n",
    " \n",
    "print(\"Avg male height:\", avg_male_height)\n",
    "print(\"Avg female height\", avg_female_height)"
   ]
  },
  {
   "cell_type": "code",
   "execution_count": null,
   "metadata": {},
   "outputs": [],
   "source": []
  }
 ],
 "metadata": {
  "kernelspec": {
   "display_name": "Python 3",
   "language": "python",
   "name": "python3"
  },
  "language_info": {
   "codemirror_mode": {
    "name": "ipython",
    "version": 3
   },
   "file_extension": ".py",
   "mimetype": "text/x-python",
   "name": "python",
   "nbconvert_exporter": "python",
   "pygments_lexer": "ipython3",
   "version": "3.8.5"
  }
 },
 "nbformat": 4,
 "nbformat_minor": 4
}
